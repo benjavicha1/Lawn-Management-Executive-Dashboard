{
 "cells": [
  {
   "cell_type": "code",
   "execution_count": null,
   "metadata": {
    "collapsed": true
   },
   "outputs": [],
   "source": [
    "# load sql magic and password input\n",
    "import getpass\n",
    "%load_ext sql\n",
    "\n",
    "# specify parameters\n",
    "user = \"s18group01\"         \n",
    "password = getpass.getpass()    # type in your password after running this cell\n",
    "host = \"dbase.dsa.missouri.edu\"\n",
    "database = \"s18dbmsgroups\""
   ]
  },
  {
   "cell_type": "code",
   "execution_count": null,
   "metadata": {
    "collapsed": true
   },
   "outputs": [],
   "source": [
    "# form connection string\n",
    "connection_string = \"postgresql://{user}:{password}@{host}/{database}\".format(user=user, password=password, host=host, database=database)\n",
    "# connect to database using the formed string\n",
    "%sql $connection_string"
   ]
  },
  {
   "cell_type": "markdown",
   "metadata": {},
   "source": [
    "---\n",
    "# 1.) User Management and Login Systems!\n",
    "---"
   ]
  },
  {
   "cell_type": "code",
   "execution_count": null,
   "metadata": {
    "collapsed": true
   },
   "outputs": [],
   "source": [
    "#log in\n",
    "SELECT * \n",
    "FROM users U JOIN User_types UT ON U.user_type_ID = UT.user_type_ID \n",
    "WHERE U.user_username = '$username' OR U.user_email = '$username';"
   ]
  },
  {
   "cell_type": "code",
   "execution_count": null,
   "metadata": {
    "collapsed": true
   },
   "outputs": [],
   "source": [
    "INSERT INTO User_logs (user_ID, role, user_username, action_taken)\n",
    "VALUES (\".$_SESSION['u_id'].\", '\".$_SESSION['u_type_name'].\"','\".$_SESSION['u_username'].\"','Logged in');"
   ]
  },
  {
   "cell_type": "code",
   "execution_count": null,
   "metadata": {
    "collapsed": true
   },
   "outputs": [],
   "source": []
  },
  {
   "cell_type": "code",
   "execution_count": null,
   "metadata": {
    "collapsed": true
   },
   "outputs": [],
   "source": [
    "#setting page w/ password\n",
    "UPDATE Users \n",
    "SET user_first = '$user_first', user_last = '$user_last', user_email = '$user_email', \n",
    "user_username = '$user_username', user_pwd = '$hashedPwd'\n",
    "WHERE user_ID = '$user_ID';"
   ]
  },
  {
   "cell_type": "code",
   "execution_count": null,
   "metadata": {
    "collapsed": true
   },
   "outputs": [],
   "source": [
    "INSERT INTO User_logs (user_ID, role, user_username, action_taken)\n",
    "VALUES (\".$_SESSION['u_id'].\", '\".$_SESSION['u_type_name'].\"','\".$_SESSION['u_username'].\"',\n",
    "        'Update profile and password');"
   ]
  },
  {
   "cell_type": "code",
   "execution_count": null,
   "metadata": {
    "collapsed": true
   },
   "outputs": [],
   "source": [
    "#setting page w/o password\n",
    "UPDATE Users \n",
    "SET user_first = '$user_first', user_last = '$user_last', user_email = '$user_email', \n",
    "user_username = '$user_username'\n",
    "WHERE user_ID = '$user_ID';"
   ]
  },
  {
   "cell_type": "code",
   "execution_count": null,
   "metadata": {
    "collapsed": true
   },
   "outputs": [],
   "source": [
    "INSERT INTO User_logs (user_ID, role, user_username, action_taken)\n",
    "VALUES (\".$_SESSION['u_id'].\", '\".$_SESSION['u_type_name'].\"','\".$_SESSION['u_username'].\"',\n",
    "        'Update profile');"
   ]
  },
  {
   "cell_type": "code",
   "execution_count": null,
   "metadata": {
    "collapsed": true
   },
   "outputs": [],
   "source": []
  },
  {
   "cell_type": "code",
   "execution_count": null,
   "metadata": {
    "collapsed": true
   },
   "outputs": [],
   "source": [
    "#display-user-table\n",
    "SELECT * FROM Users U, User_types Ut WHERE U.user_type_id = Ut.user_type_id;"
   ]
  },
  {
   "cell_type": "code",
   "execution_count": null,
   "metadata": {
    "collapsed": true
   },
   "outputs": [],
   "source": [
    "##footer - Updated time\n",
    "SELECT max(updatedon::timestamp(0))  FROM Users;"
   ]
  },
  {
   "cell_type": "code",
   "execution_count": null,
   "metadata": {
    "collapsed": true
   },
   "outputs": [],
   "source": [
    "## Admin - Update User \n",
    "SELECT * FROM users WHERE user_username = '$user_username';\n",
    "SELECT * FROM users WHERE user_email = '$user_email';"
   ]
  },
  {
   "cell_type": "code",
   "execution_count": null,
   "metadata": {
    "collapsed": true
   },
   "outputs": [],
   "source": [
    "# Update User w/ password\n",
    "UPDATE Users \n",
    "SET user_first = '$user_first', user_last = '$user_last', user_email = '$user_email', \n",
    "user_type_id = '$user_type_id', user_username = '$user_username', user_pwd = '$hashedPwd'\n",
    "WHERE user_ID = '$user_ID';"
   ]
  },
  {
   "cell_type": "code",
   "execution_count": null,
   "metadata": {
    "collapsed": true
   },
   "outputs": [],
   "source": [
    "# record the change to the log table\n",
    "INSERT INTO User_logs (user_ID, role, user_username, action_taken)\n",
    "VALUES (\".$_SESSION['u_id'].\", '\".$_SESSION['u_type_name'].\"',\n",
    "        '\".$_SESSION['u_username'].\"','Update user ''\" . $user_ID . \"'' and password');"
   ]
  },
  {
   "cell_type": "code",
   "execution_count": null,
   "metadata": {
    "collapsed": true
   },
   "outputs": [],
   "source": []
  },
  {
   "cell_type": "code",
   "execution_count": null,
   "metadata": {
    "collapsed": true
   },
   "outputs": [],
   "source": [
    "# Update User w/out password\n",
    "UPDATE Users SET user_first = '$user_first', user_last = '$user_last', user_email = '$user_email', \n",
    "user_type_id = '$user_type_id', user_username = '$user_username'\n",
    "WHERE user_ID = '$user_ID';"
   ]
  },
  {
   "cell_type": "code",
   "execution_count": null,
   "metadata": {
    "collapsed": true
   },
   "outputs": [],
   "source": [
    "INSERT INTO User_logs (user_ID, role, user_username, action_taken)\n",
    "VALUES (\".$_SESSION['u_id'].\", '\".$_SESSION['u_type_name'].\"',\n",
    "        '\".$_SESSION['u_username'].\"','Update user ''\" . $user_ID . \"'' ');"
   ]
  },
  {
   "cell_type": "code",
   "execution_count": null,
   "metadata": {
    "collapsed": true
   },
   "outputs": [],
   "source": []
  },
  {
   "cell_type": "code",
   "execution_count": null,
   "metadata": {
    "collapsed": true
   },
   "outputs": [],
   "source": [
    "# Delete user\n",
    "DELETE FROM Users WHERE user_id = \" . $delete_user_id . \";"
   ]
  },
  {
   "cell_type": "code",
   "execution_count": null,
   "metadata": {
    "collapsed": true
   },
   "outputs": [],
   "source": [
    "# record the delete log\n",
    "INSERT INTO User_logs (user_id, role, user_username, action_taken) \n",
    "VALUES ('\".$_SESSION['u_id'].\"', '\".$_SESSION['u_type_name'].\"', \n",
    "        '\".$_SESSION['u_username'].\"', 'Delete user = ''\".$delete_user_username.\"'' ');"
   ]
  },
  {
   "cell_type": "code",
   "execution_count": null,
   "metadata": {
    "collapsed": true
   },
   "outputs": [],
   "source": []
  },
  {
   "cell_type": "code",
   "execution_count": null,
   "metadata": {
    "collapsed": true
   },
   "outputs": [],
   "source": [
    "#Create a new user\n",
    "INSERT INTO Users (user_username, user_first, user_last, user_pwd, user_email, user_type_id)\n",
    "VALUES ('$user_username', '$user_first', '$user_last', '$hashedPwdCheck', '$user_email', '$user_type_id'); "
   ]
  },
  {
   "cell_type": "code",
   "execution_count": null,
   "metadata": {
    "collapsed": true
   },
   "outputs": [],
   "source": [
    "#log the activity\n",
    "INSERT INTO User_logs (user_ID, role, user_username, action_taken)\n",
    "VALUES (\".$_SESSION['u_id'].\", '\".$_SESSION['u_type_name'].\"',\n",
    "        '\".$_SESSION['u_username'].\"','Create a new user:  username = ''\" . $user_username . \"'' ');"
   ]
  },
  {
   "cell_type": "code",
   "execution_count": null,
   "metadata": {
    "collapsed": true
   },
   "outputs": [],
   "source": []
  },
  {
   "cell_type": "code",
   "execution_count": null,
   "metadata": {
    "collapsed": true
   },
   "outputs": [],
   "source": [
    "# display activity log table\n",
    "SELECT * \n",
    "        FROM User_logs\n",
    "        ORDER BY action_taken_time DESC;"
   ]
  },
  {
   "cell_type": "markdown",
   "metadata": {},
   "source": [
    "---\n",
    "# 2.) Dashboard Display!\n",
    "---"
   ]
  },
  {
   "cell_type": "code",
   "execution_count": null,
   "metadata": {
    "collapsed": true
   },
   "outputs": [],
   "source": [
    "#open ticket\n",
    "SELECT count(*) FROM Ticket WHERE ticketStatus_ID = 2;"
   ]
  },
  {
   "cell_type": "code",
   "execution_count": null,
   "metadata": {
    "collapsed": true
   },
   "outputs": [],
   "source": [
    "#new purchase order\n",
    "SELECT count(*) FROM purchaseOrder WHERE purchaseStatus_ID = 1;"
   ]
  },
  {
   "cell_type": "code",
   "execution_count": null,
   "metadata": {
    "collapsed": true
   },
   "outputs": [],
   "source": [
    "# Open Issue\n",
    "SELECT count(*) FROM Issues WHERE issueStatus_ID = 1;"
   ]
  },
  {
   "cell_type": "code",
   "execution_count": null,
   "metadata": {
    "collapsed": true
   },
   "outputs": [],
   "source": [
    "# new lead\n",
    "SELECT count(*) FROM lead WHERE leadstatus_id = 4;"
   ]
  },
  {
   "cell_type": "code",
   "execution_count": null,
   "metadata": {
    "collapsed": true
   },
   "outputs": [],
   "source": [
    "# display Geography chart (location) of the company branches\n",
    "SELECT b.branch_name, count(p.property_ID) AS properties\n",
    "    FROM branch b, Property P\n",
    "    WHERE b.branch_ID = p.branch_ID\n",
    "    GROUP BY b.branch_name;"
   ]
  },
  {
   "cell_type": "code",
   "execution_count": null,
   "metadata": {
    "collapsed": true
   },
   "outputs": [],
   "source": []
  },
  {
   "cell_type": "markdown",
   "metadata": {},
   "source": [
    "---\n",
    "# 3.) Company Performance and Gross Profit\n",
    "---"
   ]
  },
  {
   "cell_type": "code",
   "execution_count": null,
   "metadata": {
    "collapsed": true
   },
   "outputs": [],
   "source": [
    "# Find the over all company profit margin \n",
    "SELECT (SUM(sale_price) - SUM(actualCost)), \n",
    "                 SUM(sale_price), \n",
    "                 (SUM(sale_price) - SUM(actualCost)) / SUM(sale_price)                     \n",
    "         FROM Contract;"
   ]
  },
  {
   "cell_type": "code",
   "execution_count": null,
   "metadata": {
    "collapsed": true
   },
   "outputs": [],
   "source": [
    "# Total revenue and expense on each year\n",
    "SELECT contractYear, SUM(sale_price), SUM(actualCost)\n",
    "        FROM Contract \n",
    "        GROUP BY contractYear\n",
    "        ORDER BY ContractYear ASC;"
   ]
  },
  {
   "cell_type": "code",
   "execution_count": null,
   "metadata": {
    "collapsed": true
   },
   "outputs": [],
   "source": [
    "# Total revenue and expense of each year on different branch branches\n",
    "SELECT B.Branch_name, C.contractYear, SUM(sale_price),  SUM(actualCost)\n",
    "        FROM Contract C, Property P,  Branch B\n",
    "        WHERE C.property_ID = P.property_ID AND P.branch_ID = B.branch_ID\n",
    "        GROUP BY B.Branch_ID, C.contractYear;"
   ]
  },
  {
   "cell_type": "code",
   "execution_count": null,
   "metadata": {
    "collapsed": true
   },
   "outputs": [],
   "source": [
    "# Contribution Margin\n",
    "SELECT contractyear, (1 - (sum(actualCost)/sum(sale_price))) * 100 AS Contribution_Margin\n",
    "        FROM Contract\n",
    "        GROUP BY contractyear\n",
    "        ORDER BY contractyear;"
   ]
  },
  {
   "cell_type": "markdown",
   "metadata": {},
   "source": [
    "---\n",
    "# 4.) Leads (Potential Customers) !\n",
    "---"
   ]
  },
  {
   "cell_type": "code",
   "execution_count": null,
   "metadata": {
    "collapsed": true
   },
   "outputs": [],
   "source": [
    "#Leads by Branch\n",
    "SELECT b.branch_name, count(l.lead_ID)\n",
    "    FROM Lead l, branch b\n",
    "    WHERE l.branch_id = b.branch_id\n",
    "    GROUP BY b.branch_id;"
   ]
  },
  {
   "cell_type": "code",
   "execution_count": null,
   "metadata": {
    "collapsed": true
   },
   "outputs": [],
   "source": [
    "#Leads by Industry\n",
    "SELECT i.industry_name, count(l.lead_ID)\n",
    "     FROM Lead l, industry i\n",
    "     WHERE l.industry_id = i.industry_id AND l.leadStatus_ID  IN (2,4)\n",
    "     GROUP BY i.industry_id;"
   ]
  },
  {
   "cell_type": "code",
   "execution_count": null,
   "metadata": {
    "collapsed": true
   },
   "outputs": [],
   "source": [
    "#Leads by Year\n",
    "SELECT leadYear, count(lead_ID)\n",
    "     FROM lead\n",
    "     WHERE leadStatus_ID  IN (2,4)\n",
    "     GROUP BY leadYear\n",
    "     ORDER BY leadYear ASC;"
   ]
  },
  {
   "cell_type": "code",
   "execution_count": null,
   "metadata": {
    "collapsed": true
   },
   "outputs": [],
   "source": [
    "# Marketing Table\n",
    "SELECT l.lead_ID, b.branch_name, e.employee_name, i.industry_name, \n",
    "        lt.leadType_name, ls.leadStatus_name, l.leadValue, l.leadYear\n",
    "        FROM Lead l\n",
    "        JOIN Branch b ON l.branch_ID = b.branch_ID\n",
    "        JOIN Employee e ON l.marketingRep_ID = e.employee_ID\n",
    "        JOIN Industry i ON l.industry_ID = i.industry_ID\n",
    "        JOIN Lead_type lt ON l.leadType_ID = lt.leadType_ID\n",
    "        JOIN Lead_Status ls ON l.leadStatus_ID = ls.leadStatus_ID\n",
    "        ;"
   ]
  },
  {
   "cell_type": "markdown",
   "metadata": {},
   "source": [
    "---\n",
    "# 5.) Expenses!\n",
    "---"
   ]
  },
  {
   "cell_type": "code",
   "execution_count": null,
   "metadata": {
    "collapsed": true
   },
   "outputs": [],
   "source": [
    "# Actual Total Costs\n",
    "SELECT SUM(actLabor_expense) AS Labor, SUM(actSubcontractor_expense) AS Subcontractor, SUM(actMaterial_expense) AS \n",
    "        Material, SUM(actEquipment_expense) AS Equipment\n",
    "        FROM ticket"
   ]
  },
  {
   "cell_type": "code",
   "execution_count": null,
   "metadata": {
    "collapsed": true
   },
   "outputs": [],
   "source": [
    "# Estimated Total Costs\n",
    "SELECT SUM(estLabor_expense) AS Labor, SUM(estSubcontractor_expense) AS Subcontractor, SUM(estMaterial_expense) AS \n",
    "        Material, SUM(estEquipment_expense) AS Equipment\n",
    "        FROM ticket"
   ]
  },
  {
   "cell_type": "code",
   "execution_count": null,
   "metadata": {
    "collapsed": true
   },
   "outputs": [],
   "source": [
    "# Accuracy of all branches\n",
    "SELECT SUM(actLabor_expense) AS act_labor, SUM(actSubcontractor_expense) AS act_subcontractor, \n",
    "SUM(actMaterial_expense) AS act_material, SUM(actEquipment_expense) AS act_equipment, \n",
    "SUM(estLabor_expense) AS est_labor, SUM(estSubcontractor_expense) AS est_subcontractor, \n",
    "SUM(estMaterial_expense) AS est_material, SUM(estEquipment_expense) AS est_equipment \n",
    "FROM ticket;"
   ]
  },
  {
   "cell_type": "code",
   "execution_count": null,
   "metadata": {
    "collapsed": true
   },
   "outputs": [],
   "source": [
    "# Accuracy by Property %\n",
    "SELECT c.property_id, SUM(actLabor_expense) AS act_labor, SUM(actSubcontractor_expense) AS act_subcontractor, SUM(actMaterial_expense) AS act_material, SUM(actEquipment_expense) AS act_equipment,\n",
    "SUM(estLabor_expense) AS est_labor, SUM(estSubcontractor_expense) AS est_subcontractor, SUM(estMaterial_expense) AS est_material, SUM(estEquipment_expense) AS est_equipment\n",
    "FROM ticket t\n",
    "JOIN contractservice cs ON t.contractService_ID = cs.contractService_ID\n",
    "JOIN contract c ON cs.contract_id = c.contract_id\n",
    "GROUP BY c.property_id\n",
    "ORDER BY c.property_id ASC;"
   ]
  },
  {
   "cell_type": "markdown",
   "metadata": {},
   "source": [
    "---\n",
    "# 6.) Ticket!\n",
    "---"
   ]
  },
  {
   "cell_type": "code",
   "execution_count": null,
   "metadata": {
    "collapsed": true
   },
   "outputs": [],
   "source": [
    "$sql_open_ticket = \"SELECT count(*) FROM Ticket WHERE ticketStatus_ID = 2;\";\n",
    "$sql_approved_ticket = \"SELECT count(*) FROM Ticket WHERE ticketStatus_ID = 5;\";\n",
    "$sql_billed_ticket = \"SELECT count(*) FROM Ticket WHERE ticketStatus_ID = 7;\";\n"
   ]
  },
  {
   "cell_type": "code",
   "execution_count": null,
   "metadata": {
    "collapsed": true
   },
   "outputs": [],
   "source": [
    "# Bar Graph \n",
    "SELECT ts.ticketStatus_name AS status, COUNT(*)\n",
    "        FROM Ticket t\n",
    "        JOIN Ticket_status ts ON t.ticketStatus_ID = ts.ticketStatus_ID\n",
    "        GROUP BY (ts.ticketStatus_name);"
   ]
  },
  {
   "cell_type": "code",
   "execution_count": null,
   "metadata": {
    "collapsed": true
   },
   "outputs": [],
   "source": [
    "# Billed Ticket \n",
    "SELECT t.ticket_id, st.description, e.employee_name, cl.client_name, b.branch_name, co.contractYear\n",
    "        FROM Ticket t\n",
    "        JOIN Contractservice cs ON t.contractService_ID = cs.contractservice_id\n",
    "        JOIN Servicetype st ON cs.servicetype_ID = st.servicetype_ID\n",
    "        JOIN Employee e ON t.foreman_ID = e.employee_ID\n",
    "        JOIN Contract co ON cs.contract_ID = co.contract_ID\n",
    "        JOIN Property p ON co.property_ID = p.property_ID\n",
    "        JOIN Client cl ON p.client_ID = cl.client_ID\n",
    "        JOIN Branch b ON p.branch_ID = b.branch_ID\n",
    "        JOIN Ticket_status ts ON t.ticketStatus_ID = ts.ticketStatus_ID\n",
    "        WHERE ts.ticketStatus_name = 'Billed';"
   ]
  },
  {
   "cell_type": "code",
   "execution_count": null,
   "metadata": {
    "collapsed": true
   },
   "outputs": [],
   "source": [
    "# Approved Ticket Table\n",
    "SELECT t.ticket_id, st.description, e.employee_name, cl.client_name, b.branch_name, co.contractYear\n",
    "        FROM Ticket t\n",
    "        JOIN Contractservice cs ON t.contractService_ID = cs.contractservice_id\n",
    "        JOIN Servicetype st ON cs.servicetype_ID = st.servicetype_ID\n",
    "        JOIN Employee e ON t.foreman_ID = e.employee_ID\n",
    "        JOIN Contract co ON cs.contract_ID = co.contract_ID\n",
    "        JOIN Property p ON co.property_ID = p.property_ID\n",
    "        JOIN Client cl ON p.client_ID = cl.client_ID\n",
    "        JOIN Branch b ON p.branch_ID = b.branch_ID\n",
    "        JOIN Ticket_status ts ON t.ticketStatus_ID = ts.ticketStatus_ID\n",
    "        WHERE ts.ticketStatus_name = 'Approved';"
   ]
  },
  {
   "cell_type": "code",
   "execution_count": null,
   "metadata": {
    "collapsed": true
   },
   "outputs": [],
   "source": [
    "# Open Ticket\n",
    "SELECT t.ticket_id, st.description, e.employee_name, cl.client_name, b.branch_name, co.contractYear\n",
    "        FROM Ticket t\n",
    "        JOIN Contractservice cs ON t.contractService_ID = cs.contractservice_id\n",
    "        JOIN Servicetype st ON cs.servicetype_ID = st.servicetype_ID\n",
    "        JOIN Employee e ON t.foreman_ID = e.employee_ID\n",
    "        JOIN Contract co ON cs.contract_ID = co.contract_ID\n",
    "        JOIN Property p ON co.property_ID = p.property_ID\n",
    "        JOIN Client cl ON p.client_ID = cl.client_ID\n",
    "        JOIN Branch b ON p.branch_ID = b.branch_ID\n",
    "        JOIN Ticket_status ts ON t.ticketStatus_ID = ts.ticketStatus_ID\n",
    "        WHERE ts.ticketStatus_name = 'Open';"
   ]
  },
  {
   "cell_type": "markdown",
   "metadata": {},
   "source": [
    "---\n",
    "# 7.) Purchase Orders\n",
    "---"
   ]
  },
  {
   "cell_type": "code",
   "execution_count": null,
   "metadata": {
    "collapsed": true
   },
   "outputs": [],
   "source": [
    "#number display\n",
    "$sql_new_purchase = \"SELECT count(*) FROM purchaseOrder WHERE purchaseStatus_ID = 1;\";\n",
    "$sql_approved_purchase = \"SELECT count(*) FROM purchaseOrder WHERE purchaseStatus_ID = 5;\";\n",
    "$sql_complete_purchase = \"SELECT count(*) FROM purchaseOrder WHERE purchaseStatus_ID = 6;\";\n"
   ]
  },
  {
   "cell_type": "code",
   "execution_count": null,
   "metadata": {
    "collapsed": true
   },
   "outputs": [],
   "source": [
    "# Bar graph\n",
    "SELECT ps.status, COUNT(*)\n",
    "    FROM PurchaseOrder po\n",
    "    JOIN Purchase_status ps ON po.purchaseStatus_ID = ps.purchaseStatus_ID\n",
    "    GROUP BY (ps.status);"
   ]
  },
  {
   "cell_type": "code",
   "execution_count": null,
   "metadata": {
    "collapsed": true
   },
   "outputs": [],
   "source": [
    "# New order\n",
    "SELECT po.po_id, v.vendor_name, ps.status, b.branch_name, po.created_by_user_code, \n",
    "    po.submitted_on, po.estimated_delivery_date, po.is_fully_allocated\n",
    "    FROM PurchaseOrder po\n",
    "    JOIN Vendor v ON po.vendor_ID = v.vendor_ID\n",
    "    JOIN Purchase_status ps ON po.purchaseStatus_ID = ps.purchaseStatus_ID\n",
    "    JOIN Branch b ON po.branch_ID = b.branch_ID\n",
    "    WHERE ps.status = 'New';"
   ]
  },
  {
   "cell_type": "code",
   "execution_count": null,
   "metadata": {
    "collapsed": true
   },
   "outputs": [],
   "source": [
    "# Approved order\n",
    "SELECT po.po_id, v.vendor_name, ps.status, b.branch_name, po.created_by_user_code, \n",
    "    po.submitted_on, po.estimated_delivery_date, po.is_fully_allocated\n",
    "    FROM PurchaseOrder po\n",
    "    JOIN Vendor v ON po.vendor_ID = v.vendor_ID\n",
    "    JOIN Purchase_status ps ON po.purchaseStatus_ID = ps.purchaseStatus_ID\n",
    "    JOIN Branch b ON po.branch_ID = b.branch_ID\n",
    "    WHERE ps.status = 'Approved';"
   ]
  },
  {
   "cell_type": "code",
   "execution_count": null,
   "metadata": {
    "collapsed": true
   },
   "outputs": [],
   "source": [
    "# Complete Order\n",
    "SELECT po.po_id, v.vendor_name, ps.status, b.branch_name, po.created_by_user_code, \n",
    "    po.submitted_on, po.estimated_delivery_date, po.is_fully_allocated\n",
    "    FROM PurchaseOrder po\n",
    "    JOIN Vendor v ON po.vendor_ID = v.vendor_ID\n",
    "    JOIN Purchase_status ps ON po.purchaseStatus_ID = ps.purchaseStatus_ID\n",
    "    JOIN Branch b ON po.branch_ID = b.branch_ID\n",
    "    WHERE ps.status = 'Complete';"
   ]
  },
  {
   "cell_type": "markdown",
   "metadata": {},
   "source": [
    "---\n",
    "# 8.) Issues \n",
    "---"
   ]
  },
  {
   "cell_type": "code",
   "execution_count": null,
   "metadata": {
    "collapsed": true
   },
   "outputs": [],
   "source": [
    "\n",
    "$sql_open_issue = \"SELECT count(*) FROM Issues WHERE issueStatus_ID = 1;\";\n",
    "$sql_closed_issue = \"SELECT count(*) FROM Issues WHERE issueStatus_ID = 2;\";\n",
    "$sql_past_issue = \"SELECT count(*) FROM Issues WHERE issueStatus_ID = 3;\";"
   ]
  },
  {
   "cell_type": "code",
   "execution_count": null,
   "metadata": {
    "collapsed": true
   },
   "outputs": [],
   "source": [
    "# Bar graph\n",
    "SELECT iss.issueStatus_name AS status, COUNT(*) AS count\n",
    "    FROM Issues i\n",
    "    JOIN Issue_status iss ON i.issueStatus_ID = iss.issueStatus_ID\n",
    "    GROUP BY (iss.issueStatus_name)"
   ]
  },
  {
   "cell_type": "code",
   "execution_count": null,
   "metadata": {
    "collapsed": true
   },
   "outputs": [],
   "source": [
    "# Closed issues\n",
    "SELECT i.issue_id, iss.issueStatus_name, e.employee_name, p.property_name, it.issueType_code, py.priority, i.dueDate\n",
    "    FROM Issues i\n",
    "    JOIN Issue_status iss ON i.issueStatus_ID = iss.issueStatus_ID\n",
    "    JOIN Employee e ON i.assignedForeman_ID = e.employee_ID\n",
    "    JOIN Property p ON i.property_ID = p.property_ID\n",
    "    JOIN Issue_type it ON i.issueType_ID = it.IssueType_ID\n",
    "    JOIN Priority py ON i.issuePriority_ID = py.issuePriority_ID\n",
    "    WHERE iss.issueStatus_name = 'Closed';"
   ]
  },
  {
   "cell_type": "code",
   "execution_count": null,
   "metadata": {
    "collapsed": true
   },
   "outputs": [],
   "source": [
    "# Open issues\n",
    "SELECT i.issue_id, iss.issueStatus_name, e.employee_name, p.property_name, it.issueType_code, py.priority, i.dueDate\n",
    "    FROM Issues i\n",
    "    JOIN Issue_status iss ON i.issueStatus_ID = iss.issueStatus_ID\n",
    "    JOIN Employee e ON i.assignedForeman_ID = e.employee_ID\n",
    "    JOIN Property p ON i.property_ID = p.property_ID\n",
    "    JOIN Issue_type it ON i.issueType_ID = it.IssueType_ID\n",
    "    JOIN Priority py ON i.issuePriority_ID = py.issuePriority_ID\n",
    "    WHERE iss.issueStatus_name = 'Open';"
   ]
  },
  {
   "cell_type": "code",
   "execution_count": null,
   "metadata": {
    "collapsed": true
   },
   "outputs": [],
   "source": [
    "#Open-Issue-Priority Levels:\n",
    "SELECT p.priority, COUNT(*)\n",
    "    FROM Issues i\n",
    "    JOIN Priority p ON i.issuePriority_ID = p.issuePriority_ID\n",
    "    JOIN Issue_status iss ON i.issueStatus_ID = iss.issueStatus_ID\n",
    "    WHERE iss.issueStatus_name = 'Open'\n",
    "    GROUP BY p.priority;"
   ]
  },
  {
   "cell_type": "code",
   "execution_count": null,
   "metadata": {
    "collapsed": true
   },
   "outputs": [],
   "source": [
    "# past-due table\n",
    "SELECT i.issue_id, iss.issueStatus_name, e.employee_name, p.property_name, it.issueType_code, py.priority, i.dueDate\n",
    "    FROM Issues i\n",
    "    JOIN Issue_status iss ON i.issueStatus_ID = iss.issueStatus_ID\n",
    "    JOIN Employee e ON i.assignedForeman_ID = e.employee_ID\n",
    "    JOIN Property p ON i.property_ID = p.property_ID\n",
    "    JOIN Issue_type it ON i.issueType_ID = it.IssueType_ID\n",
    "    JOIN Priority py ON i.issuePriority_ID = py.issuePriority_ID\n",
    "    WHERE iss.issueStatus_name = 'Past_Due';"
   ]
  },
  {
   "cell_type": "code",
   "execution_count": null,
   "metadata": {
    "collapsed": true
   },
   "outputs": [],
   "source": [
    "SELECT p.priority, COUNT(*)\n",
    "    FROM Issues i\n",
    "    JOIN Priority p ON i.issuePriority_ID = p.issuePriority_ID\n",
    "    JOIN Issue_status iss ON i.issueStatus_ID = iss.issueStatus_ID\n",
    "    WHERE iss.issueStatus_name = 'Past_Due'\n",
    "    GROUP BY p.priority;"
   ]
  },
  {
   "cell_type": "markdown",
   "metadata": {},
   "source": [
    "---\n",
    "# 9.) Employees!\n",
    "---"
   ]
  },
  {
   "cell_type": "code",
   "execution_count": null,
   "metadata": {
    "collapsed": true
   },
   "outputs": [],
   "source": [
    "# manager\n",
    "SELECT B.branch_id, B.branch_name, E.employee_name  \n",
    "    FROM Branch B, Employee E\n",
    "    WHERE E.employee_ID = B.branchmanager_id\n",
    "    ORDER BY B.branch_id;"
   ]
  },
  {
   "cell_type": "code",
   "execution_count": null,
   "metadata": {
    "collapsed": true
   },
   "outputs": [],
   "source": [
    "# employee\n",
    "SELECT E.employee_id, E.employee_name, B.branch_name\n",
    "    FROM Employee E, Branch B\n",
    "    WHERE E.branch_id = B.branch_id\n",
    "    ORDER BY E.employee_id;"
   ]
  },
  {
   "cell_type": "markdown",
   "metadata": {},
   "source": [
    "---\n",
    "# 10.) Clients! \n",
    "---"
   ]
  },
  {
   "cell_type": "code",
   "execution_count": null,
   "metadata": {
    "collapsed": true
   },
   "outputs": [],
   "source": [
    "# Table for admin and executive manager View:\n",
    "SELECT P.property_id, P.property_name, B.branch_name, C.client_name, I.industry_name, A.addresstype,\n",
    "                A.addressline, A.city, A.state, A.zipcode\n",
    "                FROM Property P, Branch B,  Client C,  Industry I, Address A\n",
    "                WHERE P.branch_id = B.branch_id AND P.client_id = C.client_id AND P.industry_id = I.industry_id AND P.address_id \n",
    "                = A.address_id\n",
    "                ORDER BY P.property_id;"
   ]
  },
  {
   "cell_type": "code",
   "execution_count": null,
   "metadata": {
    "collapsed": true
   },
   "outputs": [],
   "source": [
    "# account mamanger - client summary view\n",
    "SELECT * FROM client_summary;"
   ]
  }
 ],
 "metadata": {
  "kernelspec": {
   "display_name": "Python 3",
   "language": "python",
   "name": "python3"
  },
  "language_info": {
   "codemirror_mode": {
    "name": "ipython",
    "version": 3
   },
   "file_extension": ".py",
   "mimetype": "text/x-python",
   "name": "python",
   "nbconvert_exporter": "python",
   "pygments_lexer": "ipython3",
   "version": "3.4.5"
  }
 },
 "nbformat": 4,
 "nbformat_minor": 2
}
